{
 "cells": [
  {
   "cell_type": "code",
   "execution_count": 2,
   "id": "d6250e4c",
   "metadata": {},
   "outputs": [
    {
     "name": "stdout",
     "output_type": "stream",
     "text": [
      "List of column names :  ['Invoice ID', 'Branch', 'City', 'Customer type', 'Gender', 'Product line', 'Unit price', 'Quantity', 'Tax 5%', 'Total', 'Date', 'Time', 'Payment', 'cogs', 'gross margin percentage', 'gross income', 'Rating']\n"
     ]
    }
   ],
   "source": [
    "# importing the pandas library\n",
    "import pandas as pd\n",
    " \n",
    "# reading the csv file using read_csv\n",
    "# storing the data frame in variable called df\n",
    "df = pd.read_csv('data.csv')\n",
    " \n",
    "# creating a list of column names by\n",
    "# calling the .columns\n",
    "list_of_column_names = list(df.columns)\n",
    " \n",
    "# displaying the list of column names\n",
    "print('List of column names : ',\n",
    "      list_of_column_names)"
   ]
  },
  {
   "cell_type": "code",
   "execution_count": null,
   "id": "9e8ca8c6",
   "metadata": {},
   "outputs": [],
   "source": []
  }
 ],
 "metadata": {
  "kernelspec": {
   "display_name": "Python 3 (ipykernel)",
   "language": "python",
   "name": "python3"
  },
  "language_info": {
   "codemirror_mode": {
    "name": "ipython",
    "version": 3
   },
   "file_extension": ".py",
   "mimetype": "text/x-python",
   "name": "python",
   "nbconvert_exporter": "python",
   "pygments_lexer": "ipython3",
   "version": "3.9.13"
  }
 },
 "nbformat": 4,
 "nbformat_minor": 5
}
